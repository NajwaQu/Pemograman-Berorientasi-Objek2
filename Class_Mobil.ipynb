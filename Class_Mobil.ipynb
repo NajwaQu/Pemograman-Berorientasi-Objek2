{
  "nbformat": 4,
  "nbformat_minor": 0,
  "metadata": {
    "colab": {
      "provenance": [],
      "authorship_tag": "ABX9TyOhPsW2lt9yKUdNHqEyH66B",
      "include_colab_link": true
    },
    "kernelspec": {
      "name": "python3",
      "display_name": "Python 3"
    },
    "language_info": {
      "name": "python"
    }
  },
  "cells": [
    {
      "cell_type": "markdown",
      "metadata": {
        "id": "view-in-github",
        "colab_type": "text"
      },
      "source": [
        "<a href=\"https://colab.research.google.com/github/NajwaQu/Pemograman-Berorientasi-Objek2/blob/main/Class_Mobil.ipynb\" target=\"_parent\"><img src=\"https://colab.research.google.com/assets/colab-badge.svg\" alt=\"Open In Colab\"/></a>"
      ]
    },
    {
      "cell_type": "code",
      "execution_count": 3,
      "metadata": {
        "colab": {
          "base_uri": "https://localhost:8080/"
        },
        "id": "6Mn4P60ryBLV",
        "outputId": "041c9b27-ddc6-4b01-f4b6-255bb8bdde74"
      },
      "outputs": [
        {
          "output_type": "stream",
          "name": "stdout",
          "text": [
            "Mobil: Merek Porsche, Model Porsche Taycan GT\n"
          ]
        }
      ],
      "source": [
        "#Membuat Class\n",
        "class Mobil:\n",
        "    def __init__(self, merek, model):\n",
        "        self.merek = merek\n",
        "        self.model = model\n",
        "\n",
        "#Method\n",
        "    def info_mobil(self):\n",
        "        print(f\"Mobil: Merek {self.merek}, Model {self.model}\")\n",
        "\n",
        "# Membuat objek\n",
        "mobil_ku = Mobil(\"Porsche\", \"Porsche Taycan GT\")\n",
        "mobil_ku.info_mobil()"
      ]
    }
  ]
}