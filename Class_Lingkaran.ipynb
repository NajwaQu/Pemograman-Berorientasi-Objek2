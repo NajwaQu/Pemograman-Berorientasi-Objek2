{
  "nbformat": 4,
  "nbformat_minor": 0,
  "metadata": {
    "colab": {
      "provenance": [],
      "authorship_tag": "ABX9TyNeQcizBIc6QMFuy3TF2cvj",
      "include_colab_link": true
    },
    "kernelspec": {
      "name": "python3",
      "display_name": "Python 3"
    },
    "language_info": {
      "name": "python"
    }
  },
  "cells": [
    {
      "cell_type": "markdown",
      "metadata": {
        "id": "view-in-github",
        "colab_type": "text"
      },
      "source": [
        "<a href=\"https://colab.research.google.com/github/NajwaQu/Pemograman-Berorientasi-Objek2/blob/main/Class_Lingkaran.ipynb\" target=\"_parent\"><img src=\"https://colab.research.google.com/assets/colab-badge.svg\" alt=\"Open In Colab\"/></a>"
      ]
    },
    {
      "cell_type": "code",
      "execution_count": 1,
      "metadata": {
        "colab": {
          "base_uri": "https://localhost:8080/"
        },
        "id": "BJqNnnAKyBuk",
        "outputId": "a6373fde-9ebc-4c14-e2c3-182811b97c92"
      },
      "outputs": [
        {
          "output_type": "stream",
          "name": "stdout",
          "text": [
            "Luas lingkaran: 153.94\n",
            "Keliling lingkaran: 43.98\n"
          ]
        }
      ],
      "source": [
        "import math\n",
        "\n",
        "#Mendefinisikan kelas Lingkaran\n",
        "\n",
        "class Lingkaran:\n",
        "    def __init__(self, jari_jari):\n",
        "        self.jari_jari = jari_jari\n",
        "\n",
        "#Method\n",
        "    def buat_lingkaran(self):\n",
        "        luas = math.pi * (self.jari_jari ** 2)\n",
        "        keliling = 2 * math.pi * self.jari_jari\n",
        "        print(f\"Luas lingkaran: {luas:.2f}\")\n",
        "        print(f\"Keliling lingkaran: {keliling:.2f}\")\n",
        "\n",
        "# Membuat objek\n",
        "\n",
        "blt = Lingkaran(7)\n",
        "blt.buat_lingkaran()"
      ]
    }
  ]
}