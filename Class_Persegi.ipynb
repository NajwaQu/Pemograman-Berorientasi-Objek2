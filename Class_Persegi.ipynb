{
  "nbformat": 4,
  "nbformat_minor": 0,
  "metadata": {
    "colab": {
      "provenance": [],
      "authorship_tag": "ABX9TyPWR4foD/6Cs34flZab7d5r",
      "include_colab_link": true
    },
    "kernelspec": {
      "name": "python3",
      "display_name": "Python 3"
    },
    "language_info": {
      "name": "python"
    }
  },
  "cells": [
    {
      "cell_type": "markdown",
      "metadata": {
        "id": "view-in-github",
        "colab_type": "text"
      },
      "source": [
        "<a href=\"https://colab.research.google.com/github/NajwaQu/Pemograman-Berorientasi-Objek2/blob/main/Class_Persegi.ipynb\" target=\"_parent\"><img src=\"https://colab.research.google.com/assets/colab-badge.svg\" alt=\"Open In Colab\"/></a>"
      ]
    },
    {
      "cell_type": "code",
      "execution_count": 1,
      "metadata": {
        "id": "FSqK0A3iyAjv",
        "colab": {
          "base_uri": "https://localhost:8080/"
        },
        "outputId": "fc5325f0-cb53-4585-f377-72bedde7ba09"
      },
      "outputs": [
        {
          "output_type": "stream",
          "name": "stdout",
          "text": [
            "Luas persegi: 49\n",
            "Keliling persegi: 28\n"
          ]
        }
      ],
      "source": [
        "#Membuat Class\n",
        "class Persegi:\n",
        "    def __init__(self, sisi):\n",
        "        self.sisi = sisi\n",
        "\n",
        "    def luas(self):\n",
        "        return self.sisi ** 2\n",
        "\n",
        "    def keliling(self):\n",
        "        return 4 * self.sisi\n",
        "\n",
        "# Membuat objek\n",
        "persegi_saya = Persegi(7)\n",
        "print(f\"Luas persegi: {persegi_saya.luas()}\")\n",
        "print(f\"Keliling persegi: {persegi_saya.keliling()}\")"
      ]
    }
  ]
}