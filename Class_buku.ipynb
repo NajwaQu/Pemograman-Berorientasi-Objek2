{
  "nbformat": 4,
  "nbformat_minor": 0,
  "metadata": {
    "colab": {
      "provenance": [],
      "authorship_tag": "ABX9TyNn66xRlbXCjmqirlCaBKLj",
      "include_colab_link": true
    },
    "kernelspec": {
      "name": "python3",
      "display_name": "Python 3"
    },
    "language_info": {
      "name": "python"
    }
  },
  "cells": [
    {
      "cell_type": "markdown",
      "metadata": {
        "id": "view-in-github",
        "colab_type": "text"
      },
      "source": [
        "<a href=\"https://colab.research.google.com/github/NajwaQu/Pemograman-Berorientasi-Objek2/blob/main/Class_buku.ipynb\" target=\"_parent\"><img src=\"https://colab.research.google.com/assets/colab-badge.svg\" alt=\"Open In Colab\"/></a>"
      ]
    },
    {
      "cell_type": "code",
      "execution_count": 1,
      "metadata": {
        "colab": {
          "base_uri": "https://localhost:8080/"
        },
        "id": "d49WyL8qyBk-",
        "outputId": "e7c1955c-cc73-41f0-c117-e6d3fa3fc2f7"
      },
      "outputs": [
        {
          "output_type": "stream",
          "name": "stdout",
          "text": [
            "Buku: 'Belajar Bisnis dari Awal' ditulis oleh Najwa Quratul Aini.\n"
          ]
        }
      ],
      "source": [
        "#Mendefinisikan Kelas Buku\n",
        "\n",
        "class Buku:\n",
        "    def __init__(self, judul, penulis):\n",
        "        self.judul = judul\n",
        "        self.penulis = penulis\n",
        "\n",
        "#Method\n",
        "    def info_buku(self):\n",
        "        print(f\"Buku: '{self.judul}' ditulis oleh {self.penulis}.\")\n",
        "\n",
        "# Membuat objek\n",
        "\n",
        "buku_ku = Buku(\"Belajar Bisnis dari Awal\", \"Najwa Quratul Aini\")\n",
        "buku_ku.info_buku()"
      ]
    }
  ]
}