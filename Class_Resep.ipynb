{
  "nbformat": 4,
  "nbformat_minor": 0,
  "metadata": {
    "colab": {
      "provenance": [],
      "authorship_tag": "ABX9TyPylhDydcicppoPDdFTe/4A",
      "include_colab_link": true
    },
    "kernelspec": {
      "name": "python3",
      "display_name": "Python 3"
    },
    "language_info": {
      "name": "python"
    }
  },
  "cells": [
    {
      "cell_type": "markdown",
      "metadata": {
        "id": "view-in-github",
        "colab_type": "text"
      },
      "source": [
        "<a href=\"https://colab.research.google.com/github/NajwaQu/Pemograman-Berorientasi-Objek2/blob/main/Class_Resep.ipynb\" target=\"_parent\"><img src=\"https://colab.research.google.com/assets/colab-badge.svg\" alt=\"Open In Colab\"/></a>"
      ]
    },
    {
      "cell_type": "code",
      "execution_count": 1,
      "metadata": {
        "id": "FWhTxZSByAnu",
        "colab": {
          "base_uri": "https://localhost:8080/"
        },
        "outputId": "118800c0-96f8-43c9-8b3a-db9eacc43035"
      },
      "outputs": [
        {
          "output_type": "stream",
          "name": "stdout",
          "text": [
            "Resep: Kue Coklat\n",
            "Bahan-bahan:\n",
            "- Tepung\n",
            "- Gula\n",
            "- Garam\n",
            "- Telur\n",
            "- Susu\n"
          ]
        }
      ],
      "source": [
        "#Membuat Class\n",
        "class Resep:\n",
        "    def __init__(self, nama_resep, bahan):\n",
        "        self.nama_resep = nama_resep\n",
        "        self.bahan = bahan\n",
        "\n",
        "#Method\n",
        "    def buat_resep(self):\n",
        "        print(f\"Resep: {self.nama_resep}\")\n",
        "        print(\"Bahan-bahan:\")\n",
        "        for b in self.bahan:\n",
        "            print(f\"- {b}\")\n",
        "\n",
        "# Membuat objek\n",
        "bahan_resep = [\"Tepung\", \"Gula\", \"Garam\", \"Telur\", \"Susu\"]\n",
        "resep1 = Resep(\"Kue Coklat\", bahan_resep)\n",
        "resep1.buat_resep()"
      ]
    }
  ]
}